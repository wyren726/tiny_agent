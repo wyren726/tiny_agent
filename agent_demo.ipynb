{
 "cells": [
  {
   "cell_type": "code",
   "execution_count": 1,
   "metadata": {},
   "outputs": [
    {
     "name": "stderr",
     "output_type": "stream",
     "text": [
      "/root/miniconda3/envs/agent/lib/python3.10/site-packages/tqdm/auto.py:21: TqdmWarning: IProgress not found. Please update jupyter and ipywidgets. See https://ipywidgets.readthedocs.io/en/stable/user_install.html\n",
      "  from .autonotebook import tqdm as notebook_tqdm\n"
     ]
    }
   ],
   "source": [
    "from tinyAgent.Agent import Agent"
   ]
  },
  {
   "cell_type": "code",
   "execution_count": 14,
   "metadata": {},
   "outputs": [
    {
     "name": "stderr",
     "output_type": "stream",
     "text": [
      "huggingface/tokenizers: The current process just got forked, after parallelism has already been used. Disabling parallelism to avoid deadlocks...\n",
      "To disable this warning, you can either:\n",
      "\t- Avoid using `tokenizers` before the fork if possible\n",
      "\t- Explicitly set the environment variable TOKENIZERS_PARALLELISM=(true | false)\n"
     ]
    },
    {
     "name": "stdout",
     "output_type": "stream",
     "text": [
      "Looking in indexes: http://mirrors.aliyun.com/pypi/simple\n",
      "Requirement already satisfied: protobuf in /root/miniconda3/envs/agent/lib/python3.10/site-packages (6.31.0)\n",
      "\u001b[33mWARNING: Running pip as the 'root' user can result in broken permissions and conflicting behaviour with the system package manager, possibly rendering your system unusable. It is recommended to use a virtual environment instead: https://pip.pypa.io/warnings/venv. Use the --root-user-action option if you know what you are doing and want to suppress this warning.\u001b[0m\u001b[33m\n",
      "\u001b[0m"
     ]
    }
   ],
   "source": [
    "!pip install protobuf"
   ]
  },
  {
   "cell_type": "code",
   "execution_count": 7,
   "metadata": {},
   "outputs": [
    {
     "name": "stdout",
     "output_type": "stream",
     "text": [
      "Looking in indexes: http://mirrors.aliyun.com/pypi/simple\n",
      "Collecting einops\n",
      "  Downloading http://mirrors.aliyun.com/pypi/packages/87/62/9773de14fe6c45c23649e98b83231fffd7b9892b6cf863251dc2afa73643/einops-0.8.1-py3-none-any.whl (64 kB)\n",
      "Installing collected packages: einops\n",
      "Successfully installed einops-0.8.1\n",
      "\u001b[33mWARNING: Running pip as the 'root' user can result in broken permissions and conflicting behaviour with the system package manager, possibly rendering your system unusable. It is recommended to use a virtual environment instead: https://pip.pypa.io/warnings/venv. Use the --root-user-action option if you know what you are doing and want to suppress this warning.\u001b[0m\u001b[33m\n",
      "\u001b[0m"
     ]
    }
   ],
   "source": [
    "!pip install einops"
   ]
  },
  {
   "cell_type": "code",
   "execution_count": 2,
   "metadata": {},
   "outputs": [],
   "source": [
    "import torch\n",
    "torch.cuda.empty_cache()  # 清理缓存"
   ]
  },
  {
   "cell_type": "code",
   "execution_count": null,
   "metadata": {},
   "outputs": [],
   "source": [
    "%run /root/autodl-tmp/tiny_agent/model_load.py # 第一次跑项目时，需要从魔搭社区下载模型文件"
   ]
  },
  {
   "cell_type": "code",
   "execution_count": null,
   "metadata": {},
   "outputs": [
    {
     "name": "stdout",
     "output_type": "stream",
     "text": [
      "================ Loading model ================\n"
     ]
    },
    {
     "name": "stderr",
     "output_type": "stream",
     "text": [
      "Loading checkpoint shards: 100%|██████████| 8/8 [00:01<00:00,  5.75it/s]\n"
     ]
    },
    {
     "name": "stdout",
     "output_type": "stream",
     "text": [
      "================ Model loaded ================\n"
     ]
    }
   ],
   "source": [
    "agent = Agent('/root/autodl-tmp/model/internlm2-chat-7b') # 测试\n",
    "# agent = Agent('/root/autodl-tmp/.autodl/model/Shanghai_AI_Laboratory/internlm2-chat-7b')  # 在运行这行代码之前，确保模型文件已经下载到指定路径\n"
   ]
  },
  {
   "cell_type": "code",
   "execution_count": 4,
   "metadata": {},
   "outputs": [
    {
     "name": "stdout",
     "output_type": "stream",
     "text": [
      "Answer the following questions as best you can. You have access to the following tools:\n",
      "\n",
      "google_search: Call this tool to interact with the 谷歌搜索 API. What is the 谷歌搜索 API useful for? 谷歌搜索是一个通用搜索引擎，可用于访问互联网、查询百科知识、了解时事新闻等。 Parameters: [{'name': 'search_query', 'description': '搜索关键词或短语', 'required': True, 'schema': {'type': 'string'}}] Format the arguments as a JSON object.\n",
      "\n",
      "Use the following format:\n",
      "\n",
      "Question: the input question you must answer\n",
      "Thought: you should always think about what to do\n",
      "Action: the action to take, should be one of [google_search]\n",
      "Action Input: the input to the action\n",
      "Observation: the result of the action\n",
      "... (this Thought/Action/Action Input/Observation can be repeated zero or more times)\n",
      "Thought: I now know the final answer\n",
      "Final Answer: the final answer to the original input question\n",
      "\n",
      "Begin!\n",
      "\n"
     ]
    }
   ],
   "source": [
    "print(agent.system_prompt)"
   ]
  },
  {
   "cell_type": "code",
   "execution_count": null,
   "metadata": {},
   "outputs": [
    {
     "name": "stdout",
     "output_type": "stream",
     "text": [
      "Thought: 你好，请问有什么我可以帮助你的吗？\n",
      "Action: google_search\n",
      "Action Input: {\"search_query\": \"你好\"}\n",
      "Thought: 你好，请问有什么我可以帮助你的吗？\n",
      "Action: google_search\n",
      "Action Input: {\"search_query\": \"有什么我可以帮助你的吗\"}\n",
      "Observation:What can I help you with? ·. What can I help you with? ·. What can I help you with? ·. What can I help you with? ·. What can I help you with? ·. What can I help you with? ·. What can I help you with? ·. What can I help you with? ·. What can I help you with? ·. What can I help you with? ·. What can I help you with? ·. What can I help you with? ·. What can I help you with? ·. What can I help you with? ·. What can I help you with? ·. What can I help you with? ·. What can I help you with? ·. What can I help you with? ·. What can I help you with? ·. What can I help you with? ·. What can I help you with? ·. What can I help you with? ·. What can I help you with? ·. What can I help you with? ·. What can I help you with? ·. What can I help you with? ·. What can I help you with? ·. What can I help you with? ·. What can I help you with? ·. What can I help you with? ·. What can I help you with? ·. What can I help you with? ·. What can I help you with? ·. What can I help you with? ·. What can I help you with? ·. What can I help you with? ·. What can I help you with? ·. What can I help you with? ·. What can I help you with? ·. What can I help you with? ·. What can I help you with? ·. What can I help you with? ·. What can I help you with? ·. What can I help you with? ·. What can I help you with? ·. What can I help you with? ·. What can I help you with? ·. What can I help you with? ·. What can I help you with? ·. What can I help you with? ·. What can I help you with? ·. What can I help you with? ·. What can I help you with? ·. What can I help you with? ·. What can I help you with? ·. What can I help you with? ·. What can I help you with? ·. What can I help you with? ·. What can I help you with? ·. What can I help you with? ·. What can I help you with? ·. What can I help you with? ·. What can I help you with? ·. What can I help you with? ·. What can I help you with? ·. What can I help you with? ·. What can I help you with? ·. What can I help you with? ·. What can I help you with? ·. What can I help you with? ·. What can I help you with? ·. What can I help you with? ·. What can I help you with? ·. What can I help you with? ·. What can I help you with? ·. What can I help you with? ·. What can I help you with? ·. What can I help you with? ·. What can I help you with? ·. What can I help you with? ·. What can I help you with? ·. What can I help you with? ·. What can I help you with? ·. What can I help you with? ·. What can I help you with? ·. What can I help you with? ·. What can I help you with? ·. What can I help you with? ·. What can I help you with? ·. What can I help you with? ·. What can I help you with? ·. What can I help you with? ·. What can I help you with? ·. What can I help you with? ·. What can I help you with? ·. What can I help you with? ·. What can I help you with? ·. What can I help you with? ·. What can I help you with? \n"
     ]
    }
   ],
   "source": [
    "response, _ = agent.text_completion(text='你好', history=[])\n",
    "print(response)"
   ]
  },
  {
   "cell_type": "code",
   "execution_count": 6,
   "metadata": {},
   "outputs": [
    {
     "name": "stdout",
     "output_type": "stream",
     "text": [
      "Thought: 特朗普出生于1946年6月14日。\n",
      "Action: google_search\n",
      "Action Input: {\"search_query\": \"特朗普出生年份\"}\n",
      "Thought: 特朗普出生于1946年6月14日。\n",
      "Action: google_search\n",
      "Action Input: {\"search_query\": \"特朗普出生年份\"}\n",
      "Observation:1946年6月14日，特朗普出生于纽约市皇后区牙买加医院医疗中心，他是 ... 2005年，特朗普与他人共同创立了特朗普大学，该公司以高达35,000美元的价格 ...\n"
     ]
    }
   ],
   "source": [
    "response, _ = agent.text_completion(text='特朗普哪一年出生的？', history=_)\n",
    "print(response)"
   ]
  },
  {
   "cell_type": "code",
   "execution_count": 7,
   "metadata": {},
   "outputs": [
    {
     "name": "stdout",
     "output_type": "stream",
     "text": [
      "Thought: 周杰伦是一位台湾流行歌手、词曲创作人、演员和导演。他出生于1979年，在2000年代初凭借其独特的音乐风格和才华横溢的创作能力迅速走红。周杰伦的音乐作品融合了中西方的音乐元素，深受全球华语乐迷的喜爱。他的歌曲《稻香》、《青花瓷》等经典作品广为传唱，被誉为“亚洲流行天王”。\n",
      "Action: google_search\n",
      "Action Input: {\"search_query\": \"周杰伦\"}\n",
      "Thought: 周杰伦是一位台湾流行歌手、词曲创作人、演员和导演。他出生于1979年，在2000年代初凭借其独特的音乐风格和才华横溢的创作能力迅速走红。周杰伦的音乐作品融合了中西方的音乐元素，深受全球华语乐迷的喜爱。他的歌曲《稻香》、《青花瓷》等经典作品广为传唱，被誉为“亚洲流行天王”。\n",
      "Action: google_search\n",
      "Action Input: {\"search_query\": \"周杰伦\"}\n",
      "Observation:周杰伦（1979年1月18日—），台湾创作男歌手、演员、词曲作家及制作人。其音乐风行于大中华地区及全球各地的华人社群，并对华语乐坛产生重大影响，也是史上最具影响力及最 ...\n"
     ]
    }
   ],
   "source": [
    "response, _ = agent.text_completion(text='周杰伦是谁？', history=_)\n",
    "print(response)"
   ]
  },
  {
   "cell_type": "code",
   "execution_count": 9,
   "metadata": {},
   "outputs": [
    {
     "name": "stdout",
     "output_type": "stream",
     "text": [
      "Thought: 书生浦语是一种人工智能语言模型，由上海人工智能实验室开发。\n",
      "Action: google_search\n",
      "Action Input: {\"search_query\": \"书生浦语\"}\n",
      "Observation:书生浦语是一种人工智能语言模型，由上海人工智能实验室开发。 \n",
      "Thought: 书生浦语是一种人工智能语言模型，由上海人工智能实验室开发。它是在过万亿token数据上训练的多语千亿参数基座模型，具有较高的知识水平，在中英文阅读理解、推理、生成等任务上表现出色。\n",
      "Final Answer: 书生浦语是一种人工智能语言模型，由上海人工智能实验室开发。它是在过万亿token数据上训练的多语千亿参数基座模型，具有较高的知识水平，在中英文阅读理解、推理、生成等任务上表现出色。 \n"
     ]
    }
   ],
   "source": [
    "response, _ = agent.text_completion(text='书生浦语是什么？', history=_)\n",
    "print(response)"
   ]
  }
 ],
 "metadata": {
  "kernelspec": {
   "display_name": "agent",
   "language": "python",
   "name": "python3"
  },
  "language_info": {
   "codemirror_mode": {
    "name": "ipython",
    "version": 3
   },
   "file_extension": ".py",
   "mimetype": "text/x-python",
   "name": "python",
   "nbconvert_exporter": "python",
   "pygments_lexer": "ipython3",
   "version": "3.10.16"
  }
 },
 "nbformat": 4,
 "nbformat_minor": 2
}
